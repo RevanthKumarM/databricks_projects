{
 "cells": [
  {
   "cell_type": "markdown",
   "metadata": {
    "application/vnd.databricks.v1+cell": {
     "cellMetadata": {
      "byteLimit": 2048000,
      "rowLimit": 10000
     },
     "inputWidgets": {},
     "nuid": "131eefc1-3bcd-4a0d-9f2b-fc1c7d9f1d1c",
     "showTitle": false,
     "tableResultSettingsMap": {},
     "title": ""
    }
   },
   "source": [
    "#Read Json data (Batch)"
   ]
  },
  {
   "cell_type": "code",
   "execution_count": 0,
   "metadata": {
    "application/vnd.databricks.v1+cell": {
     "cellMetadata": {
      "byteLimit": 2048000,
      "rowLimit": 10000
     },
     "inputWidgets": {},
     "nuid": "33fc981f-88ab-4032-92a0-dba83dd4555b",
     "showTitle": false,
     "tableResultSettingsMap": {},
     "title": ""
    }
   },
   "outputs": [],
   "source": [
    "from pyspark.sql.functions import *\n",
    "from pyspark.sql.types import *"
   ]
  },
  {
   "cell_type": "code",
   "execution_count": 0,
   "metadata": {
    "application/vnd.databricks.v1+cell": {
     "cellMetadata": {
      "byteLimit": 2048000,
      "rowLimit": 10000
     },
     "inputWidgets": {},
     "nuid": "415db71b-3a4b-4660-b568-1184c0d594e1",
     "showTitle": false,
     "tableResultSettingsMap": {},
     "title": ""
    }
   },
   "outputs": [],
   "source": [
    "# df = (spark.read.format('json')\n",
    "#       .option('inferSchema', True)\n",
    "#       .option('multiline',True)\n",
    "#       .load('/Volumes/workspace/stream/streaming/jsonsource/'))\n",
    "\n",
    "# df.display()"
   ]
  },
  {
   "cell_type": "markdown",
   "metadata": {
    "application/vnd.databricks.v1+cell": {
     "cellMetadata": {
      "byteLimit": 2048000,
      "rowLimit": 10000
     },
     "inputWidgets": {},
     "nuid": "31eb1170-ec1e-4717-b379-9b2584be43f7",
     "showTitle": false,
     "tableResultSettingsMap": {},
     "title": ""
    }
   },
   "source": [
    "## Read streaming data"
   ]
  },
  {
   "cell_type": "code",
   "execution_count": 0,
   "metadata": {
    "application/vnd.databricks.v1+cell": {
     "cellMetadata": {
      "byteLimit": 2048000,
      "rowLimit": 10000
     },
     "inputWidgets": {},
     "nuid": "ed5e8a47-62aa-4d20-ab46-d3386445bd19",
     "showTitle": false,
     "tableResultSettingsMap": {},
     "title": ""
    }
   },
   "outputs": [],
   "source": [
    "my_schema = \"\"\"order_id STRING,\n",
    "        timestamp STRING,\n",
    "        customer STRUCT<\n",
    "          customer_id: INT,\n",
    "          name: STRING,\n",
    "          email: STRING,\n",
    "          address: STRUCT<\n",
    "            city: STRING,\n",
    "            postal_code: STRING,\n",
    "            country: STRING\n",
    "          >\n",
    "        >,\n",
    "        items ARRAY<STRUCT<\n",
    "          item_id: STRING,\n",
    "          product_name: STRING,\n",
    "          quantity: INT,\n",
    "          price: DOUBLE\n",
    "        >>,\n",
    "        payment STRUCT<\n",
    "          method: STRING,\n",
    "          transaction_id: STRING\n",
    "        >,\n",
    "        metadata ARRAY<STRUCT<\n",
    "          key: STRING,\n",
    "          value: STRING\n",
    "        >>\"\"\""
   ]
  },
  {
   "cell_type": "code",
   "execution_count": 0,
   "metadata": {
    "application/vnd.databricks.v1+cell": {
     "cellMetadata": {
      "byteLimit": 2048000,
      "rowLimit": 10000
     },
     "inputWidgets": {},
     "nuid": "e3680928-8e51-44bd-8ca3-49a40c813c61",
     "showTitle": false,
     "tableResultSettingsMap": {},
     "title": ""
    }
   },
   "outputs": [],
   "source": [
    "df = (spark.readStream.format('json')\n",
    "      .schema(my_schema)\n",
    "      .option('multiline',True)\n",
    "      .load('/Volumes/workspace/stream/streaming/jsonsource/'))"
   ]
  },
  {
   "cell_type": "code",
   "execution_count": 0,
   "metadata": {
    "application/vnd.databricks.v1+cell": {
     "cellMetadata": {
      "byteLimit": 2048000,
      "rowLimit": 10000
     },
     "inputWidgets": {},
     "nuid": "e17c66f3-8dfa-4de5-9504-b746d85981d2",
     "showTitle": false,
     "tableResultSettingsMap": {},
     "title": ""
    }
   },
   "outputs": [],
   "source": [
    "df = df.select('items','customer.customer_id','customer.name','customer.email','customer.address.city','customer.address.country','customer.address.postal_code','payment.method','payment.transaction_id','metadata')\n",
    "\n",
    "df = df.withColumn('items', explode_outer('items'))\n"
   ]
  },
  {
   "cell_type": "code",
   "execution_count": 0,
   "metadata": {
    "application/vnd.databricks.v1+cell": {
     "cellMetadata": {
      "byteLimit": 2048000,
      "rowLimit": 10000
     },
     "inputWidgets": {},
     "nuid": "305810d4-e56e-46e1-aeed-a8c94bdaa30f",
     "showTitle": false,
     "tableResultSettingsMap": {},
     "title": ""
    }
   },
   "outputs": [],
   "source": [
    "df = df.select('items.item_id','items.price','items.product_name','items.quantity','customer_id','name','email','city','country','postal_code','method','transaction_id','metadata')\n",
    "\n",
    "df = df.withColumn('metadata', explode_outer('metadata'))\n",
    "df = df.select('item_id','price','product_name','quantity','customer_id','name','email','city','country','postal_code','method','transaction_id','metadata.key','metadata.value')\n"
   ]
  },
  {
   "cell_type": "code",
   "execution_count": 0,
   "metadata": {
    "application/vnd.databricks.v1+cell": {
     "cellMetadata": {
      "byteLimit": 2048000,
      "rowLimit": 10000
     },
     "inputWidgets": {},
     "nuid": "576c1cb5-c009-4cdc-9575-b80e3abbfd92",
     "showTitle": false,
     "tableResultSettingsMap": {},
     "title": ""
    }
   },
   "outputs": [],
   "source": [
    "(df.writeStream.format('delta')\n",
    " .outputMode('append')\n",
    " .trigger(once=True)\n",
    " .option('path','/Volumes/workspace/stream/streaming/jsonsink/Data')\n",
    " .option('checkpointLocation','/Volumes/workspace/stream/streaming/jsonsink/checkpoint')\n",
    " .start())"
   ]
  },
  {
   "cell_type": "code",
   "execution_count": 0,
   "metadata": {
    "application/vnd.databricks.v1+cell": {
     "cellMetadata": {
      "byteLimit": 2048000,
      "implicitDf": true,
      "rowLimit": 10000
     },
     "inputWidgets": {},
     "nuid": "5118be33-3514-427a-8cdc-53c0227dc637",
     "showTitle": false,
     "tableResultSettingsMap": {},
     "title": ""
    }
   },
   "outputs": [],
   "source": [
    "%sql\n",
    "select * from delta.`/Volumes/workspace/stream/streaming/jsonsink/Data`"
   ]
  }
 ],
 "metadata": {
  "application/vnd.databricks.v1+notebook": {
   "computePreferences": null,
   "dashboards": [],
   "environmentMetadata": {
    "base_environment": "",
    "environment_version": "2"
   },
   "inputWidgetPreferences": null,
   "language": "python",
   "notebookMetadata": {
    "mostRecentlyExecutedCommandWithImplicitDF": {
     "commandId": 6867010709681586,
     "dataframes": [
      "_sqldf"
     ]
    },
    "pythonIndentUnit": 4
   },
   "notebookName": "output_modes",
   "widgets": {}
  },
  "language_info": {
   "name": "python"
  }
 },
 "nbformat": 4,
 "nbformat_minor": 0
}
